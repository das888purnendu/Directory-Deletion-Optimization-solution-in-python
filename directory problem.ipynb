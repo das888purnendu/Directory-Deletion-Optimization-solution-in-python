{
 "cells": [
  {
   "cell_type": "code",
   "execution_count": 2,
   "metadata": {},
   "outputs": [
    {
     "name": "stdout",
     "output_type": "stream",
     "text": [
      "How many dir : 10\n",
      "Positions with root (-1 for root) : -1 1 1 1 2 3 3 4 4 4\n",
      "How many dir you would to delete : 4\n",
      "Dir positions with  space separated : 2 4 6 9\n",
      "--------------------------------------\n",
      "position of dirs and sub dirs\n",
      "{1: [2, 3, 4], 2: [5], 3: [6, 7], 4: [8, 9, 10], 5: [], 6: [], 7: [], 8: [], 9: [], 10: []}\n",
      "--------------------------------------\n",
      "Minimum deletion should be :  3\n",
      "--------------------------------------\n",
      "Only delete those dirs number :  [2, 4, 6]\n"
     ]
    }
   ],
   "source": [
    "import copy\n",
    "status=False\n",
    "n=int(input(\"How many dir : \"))\n",
    "arr=list(map(int,input(\"Positions with root (-1 for root) : \").split()))\n",
    "dn=int(input(\"How many dir you would to delete : \"))\n",
    "dl=list(map(int,input(\"Dir positions with  space separated : \").split()))\n",
    "\n",
    "if(-1 in arr):\n",
    "    \n",
    "    if(n==len(arr) and (1<= n <= 10**5)):\n",
    "        status=True\n",
    "        arr.sort()\n",
    "        di={i+1:[] for i in range(n)}\n",
    "        point=2\n",
    "        for i in range(n):\n",
    "            if(arr[i]>0):\n",
    "                di[arr[i]].append(point)\n",
    "                point+=1\n",
    "\n",
    "    if(status==True):\n",
    "        sim={i+1:[] for i in range(n)}\n",
    "        for i in range(1,n+1):\n",
    "            if(di[i]):\n",
    "                tempu=copy.deepcopy(di[i])\n",
    "                j=0\n",
    "                st=True\n",
    "                while(st):\n",
    "                    try:\n",
    "                        if(di[tempu[j]]):\n",
    "                            for s in di[tempu[j]]:\n",
    "                                if(s not in tempu):\n",
    "                                    tempu.append(s)\n",
    "                        j+=1\n",
    "                    except IndexError:\n",
    "                        st=False\n",
    "                sim[i]=copy.deepcopy(tempu)\n",
    "\n",
    "\n",
    "        if(dn==len(dl) and 1<= dn <= n):\n",
    "            if(dn==1):\n",
    "                print(1)\n",
    "                status=False\n",
    "            else:\n",
    "                dl.sort()\n",
    "        else:\n",
    "            status=False\n",
    "\n",
    "    if(status==True):\n",
    "        temp_dn=len(dl)\n",
    "        st=True\n",
    "        i=0\n",
    "        while(st):\n",
    "            for j in range(0,temp_dn):\n",
    "                if ( dl[i] in sim[dl[j]]):\n",
    "                    dl.remove(dl[i])\n",
    "                    temp_dn-=1\n",
    "                    i-=1\n",
    "                    break\n",
    "            if(i < temp_dn-1):\n",
    "                i+=1\n",
    "            else:\n",
    "                st=False\n",
    "                \n",
    "        print(\"--------------------------------------\")\n",
    "        print(\"position of dirs and sub dirs\")\n",
    "        print(di)\n",
    "        print(\"--------------------------------------\")\n",
    "        print(\"Minimum deletion should be : \",temp_dn)\n",
    "        print(\"--------------------------------------\")\n",
    "        print(\"Only delete those dirs number : \",dl)"
   ]
  },
  {
   "cell_type": "code",
   "execution_count": null,
   "metadata": {},
   "outputs": [],
   "source": []
  }
 ],
 "metadata": {
  "kernelspec": {
   "display_name": "Python 3",
   "language": "python",
   "name": "python3"
  },
  "language_info": {
   "codemirror_mode": {
    "name": "ipython",
    "version": 3
   },
   "file_extension": ".py",
   "mimetype": "text/x-python",
   "name": "python",
   "nbconvert_exporter": "python",
   "pygments_lexer": "ipython3",
   "version": "3.7.1"
  }
 },
 "nbformat": 4,
 "nbformat_minor": 2
}
